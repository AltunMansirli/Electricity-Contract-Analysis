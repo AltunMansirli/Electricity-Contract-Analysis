{
 "cells": [
  {
   "cell_type": "code",
   "execution_count": 12,
   "metadata": {},
   "outputs": [],
   "source": [
    "import pandas as pd\n",
    "import numpy as np\n",
    "import re\n",
    "import matplotlib.pyplot as plt\n"
   ]
  },
  {
   "cell_type": "code",
   "execution_count": 13,
   "metadata": {},
   "outputs": [
    {
     "name": "stdout",
     "output_type": "stream",
     "text": [
      "0        3 pm  mon 24th-mar-2014___0.384 kwh\n",
      "1              5am  15-aug-2014___1.201  kwh\n",
      "2         __8pm thu 20-mar-2014____1.523 kwh\n",
      "3            6pm  23rd-apr-2014___0.424  kwh\n",
      "4    _1am  friday 19th-dec-2014___0.209  kwh\n",
      "Name: unclean_data, dtype: object\n"
     ]
    }
   ],
   "source": [
    "# Load the dataset from the Excel file (sheet \"Usage\" has the raw usage data)\n",
    "df = pd.read_excel('data_cleaning.xlsx', sheet_name='Usage', header=None)\n",
    "\n",
    "# Rename the column to 'unclean_data' for clarity\n",
    "df = df.rename(columns={0: 'unclean_data'})\n",
    "\n",
    "# Convert text to lowercase and strip whitespace to standardize the format\n",
    "df['unclean_data'] = df['unclean_data'].str.lower().str.strip()\n",
    "\n",
    "# Peek at the first few rows to see the raw format\n",
    "print(df['unclean_data'].head(5))"
   ]
  },
  {
   "cell_type": "code",
   "execution_count": 14,
   "metadata": {},
   "outputs": [
    {
     "name": "stdout",
     "output_type": "stream",
     "text": [
      "  hours am_pm day month  year    kwh\n",
      "0     3    pm  24   mar  2014  0.384\n",
      "1     5    am  15   aug  2014  1.201\n",
      "2     8    pm  20   mar  2014  1.523\n",
      "3     6    pm  23   apr  2014  0.424\n",
      "4     1    am  19   dec  2014  0.209\n"
     ]
    }
   ],
   "source": [
    "# Use regex to extract the hour (numeric part) from the string (allows leading spaces/underscores before the number)\n",
    "pattern_hours = re.compile(r\"(?:[\\s\\_]*)(\\d+)\")\n",
    "df['hours'] = df['unclean_data'].str.extract(pattern_hours)\n",
    "\n",
    "# Extract the \"am\" or \"pm\" part of the time\n",
    "pattern_am_pm = re.compile(r\"(am|pm)\")\n",
    "df['am_pm'] = df['unclean_data'].str.extract(pattern_am_pm)\n",
    "\n",
    "# Extract the day, month, and year from the date portion of the string\n",
    "date_pattern = re.compile(r\"(\\d{1,2})\\w*-(\\w+)-(\\d{4})\")\n",
    "date_components = df['unclean_data'].str.extract(date_pattern)\n",
    "# The above gives a DataFrame with three columns: day, month, year\n",
    "df['day'] = date_components[0]   # day of month (as string)\n",
    "df['month'] = date_components[1] # month abbreviation/name\n",
    "df['year'] = date_components[2]  # year\n",
    "\n",
    "# Extract the kWh usage value. The pattern looks for one or more underscores, then the number (with decimal), followed by 'kwh'\n",
    "kwh_pattern = re.compile(r\"\\_+(\\d+\\.\\d+)\\s*kwh\")\n",
    "df['kwh'] = df['unclean_data'].str.extract(kwh_pattern).astype(float)\n",
    "\n",
    "# Check the extracted components for the first few rows\n",
    "print(df[['hours', 'am_pm', 'day', 'month', 'year', 'kwh']].head(5))\n"
   ]
  },
  {
   "cell_type": "code",
   "execution_count": 15,
   "metadata": {},
   "outputs": [
    {
     "name": "stdout",
     "output_type": "stream",
     "text": [
      "             datetime    weekday    kwh\n",
      "0 2014-01-01 00:00:00  Wednesday  0.684\n",
      "1 2014-01-01 01:00:00  Wednesday  0.340\n",
      "2 2014-01-01 02:00:00  Wednesday  0.332\n"
     ]
    }
   ],
   "source": [
    "# Combine day, month, year, hour, and am/pm into one string to parse as datetime (e.g., \"24mar20143pm\")\n",
    "df['datetime_str'] = df['day'] + df['month'] + df['year'] + df['hours'] + df['am_pm']\n",
    "\n",
    "# Convert the combined string to a datetime object\n",
    "df['datetime'] = pd.to_datetime(df['datetime_str'], format='%d%b%Y%I%p')\n",
    "\n",
    "# Drop the temporary datetime string column\n",
    "df.drop(columns=['datetime_str'], inplace=True)\n",
    "\n",
    "# Sort by datetime to ensure chronological order for time-series analysis\n",
    "df = df.sort_values('datetime').reset_index(drop=True)\n",
    "\n",
    "# Create a 'weekday' column with the day-of-week name, using an ordered category to preserve natural order\n",
    "df['weekday'] = pd.Categorical(df['datetime'].dt.day_name(),\n",
    "                               categories=[\"Monday\",\"Tuesday\",\"Wednesday\",\"Thursday\",\"Friday\",\"Saturday\",\"Sunday\"],\n",
    "                               ordered=True)\n",
    "\n",
    "# Verify the new datetime and weekday columns\n",
    "print(df[['datetime', 'weekday', 'kwh']].head(3))\n"
   ]
  },
  {
   "cell_type": "code",
   "execution_count": 16,
   "metadata": {},
   "outputs": [
    {
     "name": "stdout",
     "output_type": "stream",
     "text": [
      "Overall average usage: 0.782 kWh\n",
      "Average usage in February: 0.834 kWh\n",
      "Highest average usage by day of week: Sunday (0.899 kWh)\n",
      "Maximum total usage in any 4-hour period: 17.237 kWh\n"
     ]
    },
    {
     "name": "stderr",
     "output_type": "stream",
     "text": [
      "C:\\Users\\user\\AppData\\Local\\Temp\\ipykernel_18448\\1231549025.py:8: FutureWarning: The default of observed=False is deprecated and will be changed to True in a future version of pandas. Pass observed=False to retain current behavior or observed=True to adopt the future default and silence this warning.\n",
      "  avg_by_weekday = df.groupby('weekday')['kwh'].mean()  # average usage for each weekday\n"
     ]
    }
   ],
   "source": [
    "# Overall average electricity usage (in kWh)\n",
    "overall_avg = df['kwh'].mean()\n",
    "\n",
    "# Average usage in February (month \"feb\")\n",
    "feb_avg = df[df['month'] == 'feb']['kwh'].mean()\n",
    "\n",
    "# Day of the week with the highest average usage\n",
    "avg_by_weekday = df.groupby('weekday')['kwh'].mean()  # average usage for each weekday\n",
    "highest_day = avg_by_weekday.idxmax()   # weekday name with highest average usage\n",
    "highest_day_val = avg_by_weekday.max()  # the value of the highest average usage\n",
    "\n",
    "# Highest total usage over any rolling 4-hour window\n",
    "# (We use rolling sum with window=4 on the sorted data)\n",
    "rolling_4h = df['kwh'].rolling(window=4).sum()\n",
    "max_4h_usage = rolling_4h.max()\n",
    "\n",
    "# Print out the results with proper formatting\n",
    "print(f\"Overall average usage: {overall_avg:.3f} kWh\")\n",
    "print(f\"Average usage in February: {feb_avg:.3f} kWh\")\n",
    "print(f\"Highest average usage by day of week: {highest_day} ({highest_day_val:.3f} kWh)\")\n",
    "print(f\"Maximum total usage in any 4-hour period: {max_4h_usage:.3f} kWh\")\n"
   ]
  },
  {
   "cell_type": "code",
   "execution_count": 17,
   "metadata": {},
   "outputs": [
    {
     "data": {
      "image/png": "[encoded data removed]",
      "text/plain": [
       "<Figure size 800x400 with 1 Axes>"
      ]
     },
     "metadata": {},
     "output_type": "display_data"
    }
   ],
   "source": [
    "# Calculate the average usage for each hour of the day (0 through 23)\n",
    "avg_by_hour = df.groupby(df['datetime'].dt.hour)['kwh'].mean()\n",
    "\n",
    "# Plot the average usage by hour of day\n",
    "hours = avg_by_hour.index  # Hour values (0-23)\n",
    "usage_values = avg_by_hour.values\n",
    "\n",
    "plt.figure(figsize=(8, 4))\n",
    "plt.plot(hours, usage_values, marker='o')\n",
    "plt.title('Average Hourly Electricity Usage')\n",
    "plt.xlabel('Hour of Day')\n",
    "plt.ylabel('Average kWh')\n",
    "plt.xticks(ticks=range(0, 24, 1))  # show every hour on the x-axis (0,1,2,...23)\n",
    "plt.grid(True)\n",
    "plt.show()\n"
   ]
  },
  {
   "cell_type": "code",
   "execution_count": 18,
   "metadata": {},
   "outputs": [
    {
     "name": "stderr",
     "output_type": "stream",
     "text": [
      "C:\\Users\\user\\AppData\\Local\\Temp\\ipykernel_18448\\1470691601.py:2: FutureWarning: The default of observed=False is deprecated and will be changed to True in a future version of pandas. Pass observed=False to retain current behavior or observed=True to adopt the future default and silence this warning.\n",
      "  avg_by_weekday = df.groupby('weekday')['kwh'].mean()\n"
     ]
    },
    {
     "data": {
      "image/png": "[encoded data removed]",
      "text/plain": [
       "<Figure size 600x400 with 1 Axes>"
      ]
     },
     "metadata": {},
     "output_type": "display_data"
    }
   ],
   "source": [
    "# Calculate the average usage for each day of the week\n",
    "avg_by_weekday = df.groupby('weekday')['kwh'].mean()\n",
    "\n",
    "# Prepare data for plotting\n",
    "days = avg_by_weekday.index.tolist()  # ['Monday', 'Tuesday', ..., 'Sunday']\n",
    "usage_by_day = avg_by_weekday.values\n",
    "\n",
    "plt.figure(figsize=(6, 4))\n",
    "plt.bar(days, usage_by_day, color='skyblue')\n",
    "plt.title('Average Electricity Usage by Day of Week')\n",
    "plt.xlabel('Day of Week')\n",
    "plt.ylabel('Average kWh')\n",
    "plt.xticks(rotation=45)  # rotate day labels for readability (if needed)\n",
    "plt.show()\n"
   ]
  },
  {
   "cell_type": "code",
   "execution_count": 19,
   "metadata": {},
   "outputs": [],
   "source": [
    "# Load contract pricing details (from sheet \"Contracts\")\n",
    "contracts = pd.read_excel('data_cleaning.xlsx', sheet_name='Contracts')"
   ]
  },
  {
   "cell_type": "code",
   "execution_count": 20,
   "metadata": {},
   "outputs": [],
   "source": [
    "# Extract and clean Monthly Flex contract data\n",
    "monthly_flex_data = contracts.iloc[9:23, [4, 5]].dropna().reset_index(drop=True)\n",
    "monthly_flex_data.columns = ['Month', 'Rate']\n",
    "monthly_flex_data['Month'] = monthly_flex_data['Month'].str.strip()\n",
    "monthly_flex_data['Rate'] = monthly_flex_data['Rate'].astype(float)"
   ]
  },
  {
   "cell_type": "code",
   "execution_count": 21,
   "metadata": {},
   "outputs": [],
   "source": [
    "# Compute total electricity usage per month\n",
    "df['month_new'] = df['datetime'].dt.strftime('%B')  # Extract month names for analysis\n",
    "month_for_calculation = df.groupby('month_new')['kwh'].sum().reset_index()\n",
    "month_for_calculation.columns = ['Month', 'kwh']\n",
    "\n",
    "# Merge electricity usage with contract rates and calculate total cost for Monthly Flex plan\n",
    "merged_df = pd.merge(monthly_flex_data, month_for_calculation, on='Month')\n",
    "merged_df['result'] = merged_df['kwh'] * merged_df['Rate']\n",
    "monthly_flex_usage = merged_df['result'].sum()"
   ]
  },
  {
   "cell_type": "code",
   "execution_count": 23,
   "metadata": {},
   "outputs": [
    {
     "data": {
      "text/html": [
       "<div>\n",
       "<style scoped>\n",
       "    .dataframe tbody tr th:only-of-type {\n",
       "        vertical-align: middle;\n",
       "    }\n",
       "\n",
       "    .dataframe tbody tr th {\n",
       "        vertical-align: top;\n",
       "    }\n",
       "\n",
       "    .dataframe thead th {\n",
       "        text-align: right;\n",
       "    }\n",
       "</style>\n",
       "<table border=\"1\" class=\"dataframe\">\n",
       "  <thead>\n",
       "    <tr style=\"text-align: right;\">\n",
       "      <th></th>\n",
       "      <th>hour</th>\n",
       "      <th>Rate</th>\n",
       "    </tr>\n",
       "  </thead>\n",
       "  <tbody>\n",
       "    <tr>\n",
       "      <th>0</th>\n",
       "      <td>12AM until 1AM</td>\n",
       "      <td>0.10</td>\n",
       "    </tr>\n",
       "    <tr>\n",
       "      <th>1</th>\n",
       "      <td>1AM until 2AM</td>\n",
       "      <td>0.10</td>\n",
       "    </tr>\n",
       "    <tr>\n",
       "      <th>2</th>\n",
       "      <td>2AM until 3AM</td>\n",
       "      <td>0.10</td>\n",
       "    </tr>\n",
       "    <tr>\n",
       "      <th>3</th>\n",
       "      <td>3AM until 4AM</td>\n",
       "      <td>0.10</td>\n",
       "    </tr>\n",
       "    <tr>\n",
       "      <th>4</th>\n",
       "      <td>4AM until 5AM</td>\n",
       "      <td>0.15</td>\n",
       "    </tr>\n",
       "    <tr>\n",
       "      <th>5</th>\n",
       "      <td>5AM until 6AM</td>\n",
       "      <td>0.20</td>\n",
       "    </tr>\n",
       "    <tr>\n",
       "      <th>6</th>\n",
       "      <td>6AM until 7AM</td>\n",
       "      <td>0.24</td>\n",
       "    </tr>\n",
       "    <tr>\n",
       "      <th>7</th>\n",
       "      <td>7AM until 8AM</td>\n",
       "      <td>0.24</td>\n",
       "    </tr>\n",
       "    <tr>\n",
       "      <th>8</th>\n",
       "      <td>8AM until 9AM</td>\n",
       "      <td>0.26</td>\n",
       "    </tr>\n",
       "    <tr>\n",
       "      <th>9</th>\n",
       "      <td>9AM until 10AM</td>\n",
       "      <td>0.20</td>\n",
       "    </tr>\n",
       "    <tr>\n",
       "      <th>10</th>\n",
       "      <td>10AM until 11AM</td>\n",
       "      <td>0.20</td>\n",
       "    </tr>\n",
       "    <tr>\n",
       "      <th>11</th>\n",
       "      <td>11AM until 12PM</td>\n",
       "      <td>0.26</td>\n",
       "    </tr>\n",
       "    <tr>\n",
       "      <th>12</th>\n",
       "      <td>12PM until 1PM</td>\n",
       "      <td>0.26</td>\n",
       "    </tr>\n",
       "    <tr>\n",
       "      <th>13</th>\n",
       "      <td>1PM until 2PM</td>\n",
       "      <td>0.20</td>\n",
       "    </tr>\n",
       "    <tr>\n",
       "      <th>14</th>\n",
       "      <td>2PM until 3PM</td>\n",
       "      <td>0.24</td>\n",
       "    </tr>\n",
       "    <tr>\n",
       "      <th>15</th>\n",
       "      <td>3PM until 4PM</td>\n",
       "      <td>0.18</td>\n",
       "    </tr>\n",
       "    <tr>\n",
       "      <th>16</th>\n",
       "      <td>4PM until 5PM</td>\n",
       "      <td>0.15</td>\n",
       "    </tr>\n",
       "    <tr>\n",
       "      <th>17</th>\n",
       "      <td>5PM until 6PM</td>\n",
       "      <td>0.30</td>\n",
       "    </tr>\n",
       "    <tr>\n",
       "      <th>18</th>\n",
       "      <td>6PM until 7PM</td>\n",
       "      <td>0.24</td>\n",
       "    </tr>\n",
       "    <tr>\n",
       "      <th>19</th>\n",
       "      <td>7PM until 8PM</td>\n",
       "      <td>0.24</td>\n",
       "    </tr>\n",
       "    <tr>\n",
       "      <th>20</th>\n",
       "      <td>8PM until 9PM</td>\n",
       "      <td>0.12</td>\n",
       "    </tr>\n",
       "    <tr>\n",
       "      <th>21</th>\n",
       "      <td>9PM until 10PM</td>\n",
       "      <td>0.11</td>\n",
       "    </tr>\n",
       "    <tr>\n",
       "      <th>22</th>\n",
       "      <td>10PM until 11PM</td>\n",
       "      <td>0.10</td>\n",
       "    </tr>\n",
       "    <tr>\n",
       "      <th>23</th>\n",
       "      <td>11PM until 12AM</td>\n",
       "      <td>0.10</td>\n",
       "    </tr>\n",
       "  </tbody>\n",
       "</table>\n",
       "</div>"
      ],
      "text/plain": [
       "               hour  Rate\n",
       "0    12AM until 1AM  0.10\n",
       "1     1AM until 2AM  0.10\n",
       "2     2AM until 3AM  0.10\n",
       "3     3AM until 4AM  0.10\n",
       "4     4AM until 5AM  0.15\n",
       "5     5AM until 6AM  0.20\n",
       "6     6AM until 7AM  0.24\n",
       "7     7AM until 8AM  0.24\n",
       "8     8AM until 9AM  0.26\n",
       "9    9AM until 10AM  0.20\n",
       "10  10AM until 11AM  0.20\n",
       "11  11AM until 12PM  0.26\n",
       "12   12PM until 1PM  0.26\n",
       "13    1PM until 2PM  0.20\n",
       "14    2PM until 3PM  0.24\n",
       "15    3PM until 4PM  0.18\n",
       "16    4PM until 5PM  0.15\n",
       "17    5PM until 6PM  0.30\n",
       "18    6PM until 7PM  0.24\n",
       "19    7PM until 8PM  0.24\n",
       "20    8PM until 9PM  0.12\n",
       "21   9PM until 10PM  0.11\n",
       "22  10PM until 11PM  0.10\n",
       "23  11PM until 12AM  0.10"
      ]
     },
     "execution_count": 23,
     "metadata": {},
     "output_type": "execute_result"
    }
   ],
   "source": [
    "# Extract and clean Hourly Flex contract data\n",
    "hourly_flex_data = contracts.iloc[11:35, [8, 9]].dropna().reset_index(drop=True)\n",
    "hourly_flex_data.columns = ['hour', 'Rate']\n",
    "hourly_flex_data['hour'] = hourly_flex_data['hour'].astype(str).str.strip().str.zfill(2)\n",
    "hourly_flex_data['Rate'] = hourly_flex_data['Rate'].astype(float)\n",
    "hourly_flex_data"
   ]
  },
  {
   "cell_type": "code",
   "execution_count": 24,
   "metadata": {},
   "outputs": [],
   "source": [
    "# Merge electricity usage with hourly rates and compute total cost for Hourly Flex plan\n",
    "df['hour'] = df['datetime'].dt.strftime('%I')\n",
    "merged_hourly_df = pd.merge(hourly_flex_data, df, on='hour')\n",
    "hourly_flex_usage = (merged_hourly_df['Rate'] * merged_hourly_df['kwh']).sum()\n",
    "\n",
    "# Compute total cost for No Flex plan (fixed rate of $0.21 per kWh)\n",
    "no_flex_usage = float(df['kwh'].sum() * 0.21)"
   ]
  },
  {
   "cell_type": "code",
   "execution_count": 25,
   "metadata": {},
   "outputs": [
    {
     "name": "stdout",
     "output_type": "stream",
     "text": [
      "Monthly Flex Plan Cost: $1421.21\n",
      "Hourly Flex Plan Cost: $0.00\n",
      "No Flex Plan Cost: $1438.10\n",
      "Best Plan (Lowest Cost): The Hourly Flex Plan\n"
     ]
    }
   ],
   "source": [
    "# Determine the lowest cost plan\n",
    "plans = {\n",
    "    no_flex_usage: \"The No Flex Plan\",\n",
    "    monthly_flex_usage: \"The Monthly Flex Plan\",\n",
    "    hourly_flex_usage: \"The Hourly Flex Plan\",\n",
    "}\n",
    "lowest_plan = plans[min(no_flex_usage, monthly_flex_usage, hourly_flex_usage)]\n",
    "\n",
    "# Display insights\n",
    "print(f\"Monthly Flex Plan Cost: ${monthly_flex_usage:.2f}\")\n",
    "print(f\"Hourly Flex Plan Cost: ${hourly_flex_usage:.2f}\")\n",
    "print(f\"No Flex Plan Cost: ${no_flex_usage:.2f}\")\n",
    "print(f\"Best Plan (Lowest Cost): {lowest_plan}\")"
   ]
  }
 ],
 "metadata": {
  "kernelspec": {
   "display_name": "Python 3",
   "language": "python",
   "name": "python3"
  },
  "language_info": {
   "codemirror_mode": {
    "name": "ipython",
    "version": 3
   },
   "file_extension": ".py",
   "mimetype": "text/x-python",
   "name": "python",
   "nbconvert_exporter": "python",
   "pygments_lexer": "ipython3",
   "version": "3.12.4"
  }
 },
 "nbformat": 4,
 "nbformat_minor": 2
}
